{
 "cells": [
  {
   "cell_type": "code",
   "execution_count": 1,
   "id": "abe7bb93",
   "metadata": {
    "execution": {
     "iopub.execute_input": "2022-09-03T18:19:00.387894Z",
     "iopub.status.busy": "2022-09-03T18:19:00.386797Z",
     "iopub.status.idle": "2022-09-03T18:19:35.597553Z",
     "shell.execute_reply": "2022-09-03T18:19:35.596090Z"
    },
    "papermill": {
     "duration": 35.222778,
     "end_time": "2022-09-03T18:19:35.600419",
     "exception": false,
     "start_time": "2022-09-03T18:19:00.377641",
     "status": "completed"
    },
    "tags": []
   },
   "outputs": [
    {
     "name": "stdout",
     "output_type": "stream",
     "text": [
      "\u001b[31mERROR: pip's dependency resolver does not currently take into account all the packages that are installed. This behaviour is the source of the following dependency conflicts.\r\n",
      "tensorflow-io 0.21.0 requires tensorflow-io-gcs-filesystem==0.21.0, which is not installed.\r\n",
      "beatrix-jupyterlab 3.1.7 requires google-cloud-bigquery-storage, which is not installed.\r\n",
      "xarray-einstats 0.2.2 requires numpy>=1.21, but you have numpy 1.19.5 which is incompatible.\r\n",
      "tfx-bsl 1.9.0 requires pyarrow<6,>=1, but you have pyarrow 8.0.0 which is incompatible.\r\n",
      "tfx-bsl 1.9.0 requires tensorflow!=2.0.*,!=2.1.*,!=2.2.*,!=2.3.*,!=2.4.*,!=2.5.*,!=2.6.*,!=2.7.*,!=2.8.*,<3,>=1.15.5, but you have tensorflow 2.6.4 which is incompatible.\r\n",
      "tensorflow-transform 1.9.0 requires pyarrow<6,>=1, but you have pyarrow 8.0.0 which is incompatible.\r\n",
      "tensorflow-transform 1.9.0 requires tensorflow!=2.0.*,!=2.1.*,!=2.2.*,!=2.3.*,!=2.4.*,!=2.5.*,!=2.6.*,!=2.7.*,!=2.8.*,<2.10,>=1.15.5, but you have tensorflow 2.6.4 which is incompatible.\r\n",
      "tensorflow-serving-api 2.9.0 requires tensorflow<3,>=2.9.0, but you have tensorflow 2.6.4 which is incompatible.\r\n",
      "pytorch-lightning 1.7.2 requires tensorboard>=2.9.1, but you have tensorboard 2.6.0 which is incompatible.\r\n",
      "pytorch-lightning 1.7.2 requires typing-extensions>=4.0.0, but you have typing-extensions 3.10.0.2 which is incompatible.\r\n",
      "pdpbox 0.2.1 requires matplotlib==3.1.1, but you have matplotlib 3.5.3 which is incompatible.\r\n",
      "pandas-profiling 3.1.0 requires markupsafe~=2.0.1, but you have markupsafe 2.1.1 which is incompatible.\r\n",
      "nnabla 1.29.0 requires numpy>=1.20.0, but you have numpy 1.19.5 which is incompatible.\r\n",
      "jax 0.3.16 requires numpy>=1.20, but you have numpy 1.19.5 which is incompatible.\r\n",
      "flax 0.6.0 requires rich~=11.1, but you have rich 12.1.0 which is incompatible.\r\n",
      "flax 0.6.0 requires typing-extensions>=4.1.1, but you have typing-extensions 3.10.0.2 which is incompatible.\r\n",
      "flake8 4.0.1 requires importlib-metadata<4.3; python_version < \"3.8\", but you have importlib-metadata 4.12.0 which is incompatible.\r\n",
      "featuretools 1.11.1 requires numpy>=1.21.0, but you have numpy 1.19.5 which is incompatible.\r\n",
      "cmdstanpy 1.0.4 requires numpy>=1.21, but you have numpy 1.19.5 which is incompatible.\r\n",
      "apache-beam 2.40.0 requires dill<0.3.2,>=0.3.1.1, but you have dill 0.3.5.1 which is incompatible.\r\n",
      "apache-beam 2.40.0 requires pyarrow<8.0.0,>=0.15.1, but you have pyarrow 8.0.0 which is incompatible.\r\n",
      "allennlp 2.10.0 requires h5py>=3.6.0, but you have h5py 3.1.0 which is incompatible.\r\n",
      "allennlp 2.10.0 requires numpy>=1.21.4, but you have numpy 1.19.5 which is incompatible.\r\n",
      "allennlp 2.10.0 requires protobuf==3.20.0, but you have protobuf 3.19.4 which is incompatible.\r\n",
      "aioitertools 0.10.0 requires typing_extensions>=4.0; python_version < \"3.10\", but you have typing-extensions 3.10.0.2 which is incompatible.\r\n",
      "aiobotocore 2.3.4 requires botocore<1.24.22,>=1.24.21, but you have botocore 1.27.56 which is incompatible.\u001b[0m\u001b[31m\r\n",
      "\u001b[0m\u001b[33mWARNING: Running pip as the 'root' user can result in broken permissions and conflicting behaviour with the system package manager. It is recommended to use a virtual environment instead: https://pip.pypa.io/warnings/venv\u001b[0m\u001b[33m\r\n",
      "\u001b[0m"
     ]
    }
   ],
   "source": [
    "!pip install -q stellargraph[demos]==1.2.1"
   ]
  },
  {
   "cell_type": "markdown",
   "id": "ffffdb21",
   "metadata": {
    "papermill": {
     "duration": 0.00588,
     "end_time": "2022-09-03T18:19:35.612597",
     "exception": false,
     "start_time": "2022-09-03T18:19:35.606717",
     "status": "completed"
    },
    "tags": []
   },
   "source": [
    "# Node classification on Cora dataset using Graph Attention Networks"
   ]
  },
  {
   "cell_type": "code",
   "execution_count": 2,
   "id": "48fc1330",
   "metadata": {
    "execution": {
     "iopub.execute_input": "2022-09-03T18:19:35.626327Z",
     "iopub.status.busy": "2022-09-03T18:19:35.625608Z",
     "iopub.status.idle": "2022-09-03T18:19:42.504601Z",
     "shell.execute_reply": "2022-09-03T18:19:42.503537Z"
    },
    "papermill": {
     "duration": 6.888843,
     "end_time": "2022-09-03T18:19:42.507427",
     "exception": false,
     "start_time": "2022-09-03T18:19:35.618584",
     "status": "completed"
    },
    "tags": []
   },
   "outputs": [
    {
     "name": "stderr",
     "output_type": "stream",
     "text": [
      "2022-09-03 18:19:42.476831: I tensorflow/core/common_runtime/process_util.cc:146] Creating new thread pool with default inter op setting: 2. Tune using inter_op_parallelism_threads for best performance.\n"
     ]
    }
   ],
   "source": [
    "import stellargraph as sg\n",
    "import sys\n",
    "import stellargraph as sg\n",
    "\n",
    "try:\n",
    "    sg.utils.validate_notebook_version(\"1.2.1\")\n",
    "except AttributeError:\n",
    "    raise ValueError(\n",
    "        f\"This notebook requires StellarGraph version 1.2.1, but a different version {sg.__version__} is installed.  Please see <https://github.com/stellargraph/stellargraph/issues/1172>.\"\n",
    "    ) from None"
   ]
  },
  {
   "cell_type": "code",
   "execution_count": 3,
   "id": "c5a00a2f",
   "metadata": {
    "execution": {
     "iopub.execute_input": "2022-09-03T18:19:42.521600Z",
     "iopub.status.busy": "2022-09-03T18:19:42.520610Z",
     "iopub.status.idle": "2022-09-03T18:19:42.535472Z",
     "shell.execute_reply": "2022-09-03T18:19:42.534767Z"
    },
    "papermill": {
     "duration": 0.023432,
     "end_time": "2022-09-03T18:19:42.537395",
     "exception": false,
     "start_time": "2022-09-03T18:19:42.513963",
     "status": "completed"
    },
    "tags": []
   },
   "outputs": [],
   "source": [
    "import networkx as nx\n",
    "import pandas as pd\n",
    "import os\n",
    "import stellargraph as sg\n",
    "from stellargraph.mapper import FullBatchNodeGenerator\n",
    "from stellargraph.layer import GAT\n",
    "from tensorflow.keras import layers, optimizers, losses, metrics, Model\n",
    "from sklearn import preprocessing, feature_extraction, model_selection\n",
    "from stellargraph import datasets\n",
    "from IPython.display import display, HTML\n",
    "import matplotlib.pyplot as plt"
   ]
  },
  {
   "cell_type": "code",
   "execution_count": 4,
   "id": "ea5f4663",
   "metadata": {
    "execution": {
     "iopub.execute_input": "2022-09-03T18:19:42.549939Z",
     "iopub.status.busy": "2022-09-03T18:19:42.549312Z",
     "iopub.status.idle": "2022-09-03T18:19:43.696220Z",
     "shell.execute_reply": "2022-09-03T18:19:43.694777Z"
    },
    "papermill": {
     "duration": 1.155786,
     "end_time": "2022-09-03T18:19:43.698574",
     "exception": false,
     "start_time": "2022-09-03T18:19:42.542788",
     "status": "completed"
    },
    "tags": []
   },
   "outputs": [
    {
     "data": {
      "text/html": [
       "The Cora dataset consists of 2708 scientific publications classified into one of seven classes. The citation network consists of 5429 links. Each publication in the dataset is described by a 0/1-valued word vector indicating the absence/presence of the corresponding word from the dictionary. The dictionary consists of 1433 unique words."
      ],
      "text/plain": [
       "<IPython.core.display.HTML object>"
      ]
     },
     "metadata": {},
     "output_type": "display_data"
    },
    {
     "name": "stdout",
     "output_type": "stream",
     "text": [
      "31336             Neural_Networks\n",
      "1061127             Rule_Learning\n",
      "1106406    Reinforcement_Learning\n",
      "13195      Reinforcement_Learning\n",
      "37879       Probabilistic_Methods\n",
      "                    ...          \n",
      "1128975        Genetic_Algorithms\n",
      "1128977        Genetic_Algorithms\n",
      "1128978        Genetic_Algorithms\n",
      "117328                 Case_Based\n",
      "24043             Neural_Networks\n",
      "Name: subject, Length: 2708, dtype: object\n"
     ]
    }
   ],
   "source": [
    "data = datasets.Cora()\n",
    "display(HTML(data.description))\n",
    "graph , nodes = data.load()\n",
    "print(nodes)"
   ]
  },
  {
   "cell_type": "code",
   "execution_count": 5,
   "id": "d22fc86f",
   "metadata": {
    "execution": {
     "iopub.execute_input": "2022-09-03T18:19:43.711959Z",
     "iopub.status.busy": "2022-09-03T18:19:43.711581Z",
     "iopub.status.idle": "2022-09-03T18:19:43.736872Z",
     "shell.execute_reply": "2022-09-03T18:19:43.736059Z"
    },
    "papermill": {
     "duration": 0.034593,
     "end_time": "2022-09-03T18:19:43.739078",
     "exception": false,
     "start_time": "2022-09-03T18:19:43.704485",
     "status": "completed"
    },
    "tags": []
   },
   "outputs": [
    {
     "name": "stdout",
     "output_type": "stream",
     "text": [
      "StellarGraph: Undirected multigraph\n",
      " Nodes: 2708, Edges: 5429\n",
      "\n",
      " Node types:\n",
      "  paper: [2708]\n",
      "    Features: float32 vector, length 1433\n",
      "    Edge types: paper-cites->paper\n",
      "\n",
      " Edge types:\n",
      "    paper-cites->paper: [5429]\n",
      "        Weights: all 1 (default)\n",
      "        Features: none\n"
     ]
    }
   ],
   "source": [
    "print(graph.info())"
   ]
  },
  {
   "cell_type": "markdown",
   "id": "44a53008",
   "metadata": {
    "papermill": {
     "duration": 0.005855,
     "end_time": "2022-09-03T18:19:43.750559",
     "exception": false,
     "start_time": "2022-09-03T18:19:43.744704",
     "status": "completed"
    },
    "tags": []
   },
   "source": [
    ">**Graph contains all the info about the graph which inlcludes no. of nodes,edges and feature vectors of the nodes**\n",
    ">**The feature vactor is basically words which describe it. Here each is 1433 dimension vector**\n",
    ">**Here all the nodes either belong to either of the three classes**"
   ]
  },
  {
   "cell_type": "code",
   "execution_count": 6,
   "id": "6e399a88",
   "metadata": {
    "execution": {
     "iopub.execute_input": "2022-09-03T18:19:43.764174Z",
     "iopub.status.busy": "2022-09-03T18:19:43.763028Z",
     "iopub.status.idle": "2022-09-03T18:19:43.772307Z",
     "shell.execute_reply": "2022-09-03T18:19:43.771268Z"
    },
    "papermill": {
     "duration": 0.018288,
     "end_time": "2022-09-03T18:19:43.774453",
     "exception": false,
     "start_time": "2022-09-03T18:19:43.756165",
     "status": "completed"
    },
    "tags": []
   },
   "outputs": [
    {
     "data": {
      "text/plain": [
       "Neural_Networks           818\n",
       "Probabilistic_Methods     426\n",
       "Genetic_Algorithms        418\n",
       "Theory                    351\n",
       "Case_Based                298\n",
       "Reinforcement_Learning    217\n",
       "Rule_Learning             180\n",
       "Name: subject, dtype: int64"
      ]
     },
     "execution_count": 6,
     "metadata": {},
     "output_type": "execute_result"
    }
   ],
   "source": [
    "pd.Series.value_counts(nodes)"
   ]
  },
  {
   "cell_type": "markdown",
   "id": "0c6d0925",
   "metadata": {
    "papermill": {
     "duration": 0.005517,
     "end_time": "2022-09-03T18:19:43.785985",
     "exception": false,
     "start_time": "2022-09-03T18:19:43.780468",
     "status": "completed"
    },
    "tags": []
   },
   "source": [
    "* ***The names are basically the class names***"
   ]
  },
  {
   "cell_type": "code",
   "execution_count": 7,
   "id": "7401be9b",
   "metadata": {
    "execution": {
     "iopub.execute_input": "2022-09-03T18:19:43.799495Z",
     "iopub.status.busy": "2022-09-03T18:19:43.798809Z",
     "iopub.status.idle": "2022-09-03T18:19:43.810211Z",
     "shell.execute_reply": "2022-09-03T18:19:43.809408Z"
    },
    "papermill": {
     "duration": 0.020766,
     "end_time": "2022-09-03T18:19:43.812431",
     "exception": false,
     "start_time": "2022-09-03T18:19:43.791665",
     "status": "completed"
    },
    "tags": []
   },
   "outputs": [],
   "source": [
    "train,test = model_selection.train_test_split(nodes,train_size=140,test_size = None,stratify = nodes)\n",
    "val,test = model_selection.train_test_split(test,train_size=500,test_size = None,stratify = test)"
   ]
  },
  {
   "cell_type": "markdown",
   "id": "c5da3881",
   "metadata": {
    "papermill": {
     "duration": 0.005336,
     "end_time": "2022-09-03T18:19:43.823626",
     "exception": false,
     "start_time": "2022-09-03T18:19:43.818290",
     "status": "completed"
    },
    "tags": []
   },
   "source": [
    "* ***Here we are splitting the total nodes into training, validation and testing sets***\n",
    "* ***This is tranductive learning which just means there can be nodes of the graph in the testing or validation sets which might be connected to nodes in the training set***\n",
    "* ***Note: we are using stratify as the range of spread of the nodes of various class is uneven***"
   ]
  },
  {
   "cell_type": "code",
   "execution_count": 8,
   "id": "b538de26",
   "metadata": {
    "execution": {
     "iopub.execute_input": "2022-09-03T18:19:43.837239Z",
     "iopub.status.busy": "2022-09-03T18:19:43.836834Z",
     "iopub.status.idle": "2022-09-03T18:19:43.850626Z",
     "shell.execute_reply": "2022-09-03T18:19:43.849599Z"
    },
    "papermill": {
     "duration": 0.023425,
     "end_time": "2022-09-03T18:19:43.852750",
     "exception": false,
     "start_time": "2022-09-03T18:19:43.829325",
     "status": "completed"
    },
    "tags": []
   },
   "outputs": [],
   "source": [
    "encoding = preprocessing.LabelBinarizer()\n",
    "train_encoded = encoding.fit_transform(train)\n",
    "val_encoded = encoding.transform(val)\n",
    "test_encoded = encoding.transform(test)"
   ]
  },
  {
   "cell_type": "markdown",
   "id": "9143813c",
   "metadata": {
    "papermill": {
     "duration": 0.005535,
     "end_time": "2022-09-03T18:19:43.864260",
     "exception": false,
     "start_time": "2022-09-03T18:19:43.858725",
     "status": "completed"
    },
    "tags": []
   },
   "source": [
    "* ***LableBinarizer basically converts the categorical data into one-hot encoded vectors of dimension of 7***\n",
    "* ***Then we fit the training, validation and testing nodes to convert each of the nodes to 7 dimentions vectors***\n",
    "* ***This is basically the class values in a one-hot vector***"
   ]
  },
  {
   "cell_type": "code",
   "execution_count": 9,
   "id": "afb0c547",
   "metadata": {
    "execution": {
     "iopub.execute_input": "2022-09-03T18:19:43.877477Z",
     "iopub.status.busy": "2022-09-03T18:19:43.876724Z",
     "iopub.status.idle": "2022-09-03T18:19:43.883038Z",
     "shell.execute_reply": "2022-09-03T18:19:43.881779Z"
    },
    "papermill": {
     "duration": 0.015429,
     "end_time": "2022-09-03T18:19:43.885421",
     "exception": false,
     "start_time": "2022-09-03T18:19:43.869992",
     "status": "completed"
    },
    "tags": []
   },
   "outputs": [
    {
     "name": "stdout",
     "output_type": "stream",
     "text": [
      "(140, 7)\n",
      "(500, 7) (2068, 7)\n"
     ]
    }
   ],
   "source": [
    "print(train_encoded.shape)\n",
    "print(val_encoded.shape,test_encoded.shape)"
   ]
  },
  {
   "cell_type": "code",
   "execution_count": 10,
   "id": "52bf1f4b",
   "metadata": {
    "execution": {
     "iopub.execute_input": "2022-09-03T18:19:43.899220Z",
     "iopub.status.busy": "2022-09-03T18:19:43.898614Z",
     "iopub.status.idle": "2022-09-03T18:19:43.941371Z",
     "shell.execute_reply": "2022-09-03T18:19:43.940416Z"
    },
    "papermill": {
     "duration": 0.052166,
     "end_time": "2022-09-03T18:19:43.943753",
     "exception": false,
     "start_time": "2022-09-03T18:19:43.891587",
     "status": "completed"
    },
    "tags": []
   },
   "outputs": [],
   "source": [
    "gen = FullBatchNodeGenerator(graph,method=\"gat\")\n",
    "train_gen = gen.flow(train.index,train_encoded)\n",
    "gat = GAT(\n",
    "layer_sizes=[10,train_encoded.shape[1]],\n",
    "activations=[\"LeakyReLU\",\"softmax\"],\n",
    "attn_heads = 10,\n",
    "generator = gen,\n",
    "in_dropout = 0.5,\n",
    "attn_dropout = 0.5,normalize = None)"
   ]
  },
  {
   "cell_type": "markdown",
   "id": "aa39a6f7",
   "metadata": {
    "papermill": {
     "duration": 0.005528,
     "end_time": "2022-09-03T18:19:43.955237",
     "exception": false,
     "start_time": "2022-09-03T18:19:43.949709",
     "status": "completed"
    },
    "tags": []
   },
   "source": [
    "> ***FullBatchNodeGenerator builds the graph structure which can be fed into the GNN which can be GCN or GAN, etc, specified by method attribute***\n",
    "> ***The flow() performs the task of aggregating the nodal and edge-wise info to produce a model which can be trained and evaluated***\n",
    "> ***Next we create the GAT class. It has a hidden layer with 10 nodes with LeakyReLU activaton function. The last layer is sigmoid activated with shape of (1, no. of nodes, 7)***"
   ]
  },
  {
   "cell_type": "code",
   "execution_count": 11,
   "id": "75ecead6",
   "metadata": {
    "execution": {
     "iopub.execute_input": "2022-09-03T18:19:43.969103Z",
     "iopub.status.busy": "2022-09-03T18:19:43.968432Z",
     "iopub.status.idle": "2022-09-03T18:19:44.785770Z",
     "shell.execute_reply": "2022-09-03T18:19:44.784648Z"
    },
    "papermill": {
     "duration": 0.827164,
     "end_time": "2022-09-03T18:19:44.788284",
     "exception": false,
     "start_time": "2022-09-03T18:19:43.961120",
     "status": "completed"
    },
    "tags": []
   },
   "outputs": [],
   "source": [
    "input_x , pred = gat.in_out_tensors()\n",
    "val_gen = gen.flow(val.index,val_encoded)"
   ]
  },
  {
   "cell_type": "code",
   "execution_count": 12,
   "id": "e9032d06",
   "metadata": {
    "execution": {
     "iopub.execute_input": "2022-09-03T18:19:44.802502Z",
     "iopub.status.busy": "2022-09-03T18:19:44.801713Z",
     "iopub.status.idle": "2022-09-03T18:20:12.398373Z",
     "shell.execute_reply": "2022-09-03T18:20:12.396234Z"
    },
    "papermill": {
     "duration": 27.606496,
     "end_time": "2022-09-03T18:20:12.401008",
     "exception": false,
     "start_time": "2022-09-03T18:19:44.794512",
     "status": "completed"
    },
    "tags": []
   },
   "outputs": [
    {
     "name": "stderr",
     "output_type": "stream",
     "text": [
      "2022-09-03 18:19:44.919850: I tensorflow/compiler/mlir/mlir_graph_optimization_pass.cc:185] None of the MLIR Optimization Passes are enabled (registered 2)\n"
     ]
    },
    {
     "name": "stdout",
     "output_type": "stream",
     "text": [
      "Epoch 1/80\n",
      "1/1 - 6s - loss: 1.9768 - acc: 0.1143 - val_loss: 1.8527 - val_acc: 0.3600\n",
      "Epoch 2/80\n",
      "1/1 - 0s - loss: 1.8665 - acc: 0.2786 - val_loss: 1.7691 - val_acc: 0.3520\n",
      "Epoch 3/80\n",
      "1/1 - 0s - loss: 1.7540 - acc: 0.3857 - val_loss: 1.6951 - val_acc: 0.3460\n",
      "Epoch 4/80\n",
      "1/1 - 0s - loss: 1.7042 - acc: 0.3857 - val_loss: 1.6279 - val_acc: 0.3540\n",
      "Epoch 5/80\n",
      "1/1 - 0s - loss: 1.6120 - acc: 0.4000 - val_loss: 1.5658 - val_acc: 0.3800\n",
      "Epoch 6/80\n",
      "1/1 - 0s - loss: 1.4569 - acc: 0.5000 - val_loss: 1.5050 - val_acc: 0.4100\n",
      "Epoch 7/80\n",
      "1/1 - 0s - loss: 1.4454 - acc: 0.5000 - val_loss: 1.4445 - val_acc: 0.4480\n",
      "Epoch 8/80\n",
      "1/1 - 0s - loss: 1.3075 - acc: 0.5214 - val_loss: 1.3834 - val_acc: 0.4840\n",
      "Epoch 9/80\n",
      "1/1 - 0s - loss: 1.2747 - acc: 0.5714 - val_loss: 1.3208 - val_acc: 0.5440\n",
      "Epoch 10/80\n",
      "1/1 - 0s - loss: 1.2848 - acc: 0.5929 - val_loss: 1.2583 - val_acc: 0.6380\n",
      "Epoch 11/80\n",
      "1/1 - 0s - loss: 1.1825 - acc: 0.6786 - val_loss: 1.1979 - val_acc: 0.7300\n",
      "Epoch 12/80\n",
      "1/1 - 0s - loss: 1.0488 - acc: 0.7143 - val_loss: 1.1394 - val_acc: 0.7640\n",
      "Epoch 13/80\n",
      "1/1 - 0s - loss: 1.0531 - acc: 0.7071 - val_loss: 1.0853 - val_acc: 0.7800\n",
      "Epoch 14/80\n",
      "1/1 - 0s - loss: 0.9847 - acc: 0.7429 - val_loss: 1.0343 - val_acc: 0.8020\n",
      "Epoch 15/80\n",
      "1/1 - 0s - loss: 0.9299 - acc: 0.7714 - val_loss: 0.9869 - val_acc: 0.8020\n",
      "Epoch 16/80\n",
      "1/1 - 0s - loss: 0.8960 - acc: 0.7571 - val_loss: 0.9438 - val_acc: 0.8020\n",
      "Epoch 17/80\n",
      "1/1 - 0s - loss: 0.8745 - acc: 0.7500 - val_loss: 0.9039 - val_acc: 0.8000\n",
      "Epoch 18/80\n",
      "1/1 - 0s - loss: 0.7934 - acc: 0.8000 - val_loss: 0.8683 - val_acc: 0.8040\n",
      "Epoch 19/80\n",
      "1/1 - 0s - loss: 0.8002 - acc: 0.7857 - val_loss: 0.8369 - val_acc: 0.8040\n",
      "Epoch 20/80\n",
      "1/1 - 0s - loss: 0.8411 - acc: 0.7643 - val_loss: 0.8124 - val_acc: 0.8060\n",
      "Epoch 21/80\n",
      "1/1 - 0s - loss: 0.6803 - acc: 0.8429 - val_loss: 0.7940 - val_acc: 0.8080\n",
      "Epoch 22/80\n",
      "1/1 - 0s - loss: 0.7268 - acc: 0.8071 - val_loss: 0.7803 - val_acc: 0.8120\n",
      "Epoch 23/80\n",
      "1/1 - 0s - loss: 0.6278 - acc: 0.8143 - val_loss: 0.7660 - val_acc: 0.8100\n",
      "Epoch 24/80\n",
      "1/1 - 0s - loss: 0.7695 - acc: 0.8071 - val_loss: 0.7514 - val_acc: 0.8120\n",
      "Epoch 25/80\n",
      "1/1 - 0s - loss: 0.6351 - acc: 0.8214 - val_loss: 0.7378 - val_acc: 0.8100\n",
      "Epoch 26/80\n",
      "1/1 - 0s - loss: 0.5520 - acc: 0.8714 - val_loss: 0.7242 - val_acc: 0.8040\n",
      "Epoch 27/80\n",
      "1/1 - 0s - loss: 0.6432 - acc: 0.8071 - val_loss: 0.7094 - val_acc: 0.8100\n",
      "Epoch 28/80\n",
      "1/1 - 0s - loss: 0.6058 - acc: 0.8000 - val_loss: 0.6955 - val_acc: 0.8120\n",
      "Epoch 29/80\n",
      "1/1 - 0s - loss: 0.7030 - acc: 0.8286 - val_loss: 0.6846 - val_acc: 0.8120\n",
      "Epoch 30/80\n",
      "1/1 - 0s - loss: 0.4735 - acc: 0.8786 - val_loss: 0.6743 - val_acc: 0.8140\n",
      "Epoch 31/80\n",
      "1/1 - 0s - loss: 0.5809 - acc: 0.8571 - val_loss: 0.6669 - val_acc: 0.8120\n",
      "Epoch 32/80\n",
      "1/1 - 0s - loss: 0.4887 - acc: 0.9071 - val_loss: 0.6597 - val_acc: 0.8120\n",
      "Epoch 33/80\n",
      "1/1 - 0s - loss: 0.4438 - acc: 0.9000 - val_loss: 0.6531 - val_acc: 0.8060\n",
      "Epoch 34/80\n",
      "1/1 - 0s - loss: 0.5171 - acc: 0.8286 - val_loss: 0.6472 - val_acc: 0.8080\n",
      "Epoch 35/80\n",
      "1/1 - 0s - loss: 0.5062 - acc: 0.8643 - val_loss: 0.6440 - val_acc: 0.8100\n",
      "Epoch 36/80\n",
      "1/1 - 0s - loss: 0.5473 - acc: 0.8500 - val_loss: 0.6419 - val_acc: 0.8080\n",
      "Epoch 37/80\n",
      "1/1 - 0s - loss: 0.5549 - acc: 0.8143 - val_loss: 0.6419 - val_acc: 0.8080\n",
      "Epoch 38/80\n",
      "1/1 - 0s - loss: 0.5083 - acc: 0.8643 - val_loss: 0.6433 - val_acc: 0.8100\n",
      "Epoch 39/80\n",
      "1/1 - 0s - loss: 0.5326 - acc: 0.8571 - val_loss: 0.6445 - val_acc: 0.8080\n",
      "Epoch 40/80\n",
      "1/1 - 0s - loss: 0.5587 - acc: 0.8429 - val_loss: 0.6473 - val_acc: 0.8060\n",
      "Epoch 41/80\n",
      "1/1 - 0s - loss: 0.3705 - acc: 0.9143 - val_loss: 0.6465 - val_acc: 0.8040\n",
      "Epoch 42/80\n",
      "1/1 - 0s - loss: 0.4931 - acc: 0.8571 - val_loss: 0.6470 - val_acc: 0.8040\n",
      "Epoch 43/80\n",
      "1/1 - 0s - loss: 0.4560 - acc: 0.8929 - val_loss: 0.6477 - val_acc: 0.8020\n",
      "Epoch 44/80\n",
      "1/1 - 0s - loss: 0.4504 - acc: 0.8929 - val_loss: 0.6478 - val_acc: 0.8020\n",
      "Epoch 45/80\n",
      "1/1 - 0s - loss: 0.4334 - acc: 0.9214 - val_loss: 0.6472 - val_acc: 0.8060\n",
      "Epoch 46/80\n",
      "1/1 - 0s - loss: 0.4143 - acc: 0.8714 - val_loss: 0.6477 - val_acc: 0.8040\n",
      "Epoch 47/80\n",
      "1/1 - 0s - loss: 0.4919 - acc: 0.8429 - val_loss: 0.6471 - val_acc: 0.7960\n",
      "Epoch 48/80\n",
      "1/1 - 0s - loss: 0.4145 - acc: 0.9071 - val_loss: 0.6445 - val_acc: 0.7920\n",
      "Epoch 49/80\n",
      "1/1 - 0s - loss: 0.3393 - acc: 0.9143 - val_loss: 0.6416 - val_acc: 0.7920\n",
      "Epoch 50/80\n",
      "1/1 - 0s - loss: 0.4632 - acc: 0.8786 - val_loss: 0.6394 - val_acc: 0.7940\n",
      "Epoch 51/80\n",
      "1/1 - 0s - loss: 0.3463 - acc: 0.9071 - val_loss: 0.6357 - val_acc: 0.7960\n",
      "Epoch 52/80\n",
      "1/1 - 0s - loss: 0.4541 - acc: 0.8929 - val_loss: 0.6319 - val_acc: 0.8000\n",
      "Epoch 53/80\n",
      "1/1 - 0s - loss: 0.4718 - acc: 0.9000 - val_loss: 0.6295 - val_acc: 0.8000\n",
      "Epoch 54/80\n",
      "1/1 - 0s - loss: 0.3570 - acc: 0.9071 - val_loss: 0.6288 - val_acc: 0.8040\n",
      "Epoch 55/80\n",
      "1/1 - 0s - loss: 0.3993 - acc: 0.8786 - val_loss: 0.6273 - val_acc: 0.8040\n",
      "Epoch 56/80\n",
      "1/1 - 0s - loss: 0.4287 - acc: 0.8786 - val_loss: 0.6252 - val_acc: 0.8060\n",
      "Epoch 57/80\n",
      "1/1 - 0s - loss: 0.4345 - acc: 0.8786 - val_loss: 0.6234 - val_acc: 0.8080\n",
      "Epoch 58/80\n",
      "1/1 - 0s - loss: 0.4044 - acc: 0.8643 - val_loss: 0.6203 - val_acc: 0.8100\n",
      "Epoch 59/80\n",
      "1/1 - 0s - loss: 0.5575 - acc: 0.8143 - val_loss: 0.6167 - val_acc: 0.8120\n",
      "Epoch 60/80\n",
      "1/1 - 0s - loss: 0.4046 - acc: 0.8786 - val_loss: 0.6136 - val_acc: 0.8140\n",
      "Epoch 61/80\n",
      "1/1 - 0s - loss: 0.3397 - acc: 0.8929 - val_loss: 0.6109 - val_acc: 0.8140\n",
      "Epoch 62/80\n",
      "1/1 - 0s - loss: 0.4618 - acc: 0.8643 - val_loss: 0.6092 - val_acc: 0.8080\n",
      "Epoch 63/80\n",
      "1/1 - 0s - loss: 0.3150 - acc: 0.9000 - val_loss: 0.6076 - val_acc: 0.8140\n",
      "Epoch 64/80\n",
      "1/1 - 0s - loss: 0.3060 - acc: 0.9500 - val_loss: 0.6071 - val_acc: 0.8140\n",
      "Epoch 65/80\n",
      "1/1 - 0s - loss: 0.3861 - acc: 0.9143 - val_loss: 0.6073 - val_acc: 0.8120\n",
      "Epoch 66/80\n",
      "1/1 - 0s - loss: 0.4500 - acc: 0.8357 - val_loss: 0.6076 - val_acc: 0.8080\n",
      "Epoch 67/80\n",
      "1/1 - 0s - loss: 0.2644 - acc: 0.9357 - val_loss: 0.6084 - val_acc: 0.8060\n",
      "Epoch 68/80\n",
      "1/1 - 0s - loss: 0.2816 - acc: 0.9143 - val_loss: 0.6092 - val_acc: 0.8040\n",
      "Epoch 69/80\n",
      "1/1 - 0s - loss: 0.3581 - acc: 0.9071 - val_loss: 0.6104 - val_acc: 0.8040\n",
      "Epoch 70/80\n",
      "1/1 - 0s - loss: 0.3875 - acc: 0.8786 - val_loss: 0.6109 - val_acc: 0.8040\n",
      "Epoch 71/80\n",
      "1/1 - 0s - loss: 0.3349 - acc: 0.9143 - val_loss: 0.6118 - val_acc: 0.8060\n",
      "Epoch 72/80\n",
      "1/1 - 0s - loss: 0.3761 - acc: 0.9071 - val_loss: 0.6129 - val_acc: 0.8060\n",
      "Epoch 73/80\n",
      "1/1 - 0s - loss: 0.3630 - acc: 0.9000 - val_loss: 0.6134 - val_acc: 0.8080\n",
      "Epoch 74/80\n",
      "1/1 - 0s - loss: 0.3887 - acc: 0.9143 - val_loss: 0.6144 - val_acc: 0.8060\n",
      "Epoch 75/80\n",
      "1/1 - 0s - loss: 0.2882 - acc: 0.9500 - val_loss: 0.6156 - val_acc: 0.8060\n",
      "Epoch 76/80\n",
      "1/1 - 0s - loss: 0.3100 - acc: 0.9571 - val_loss: 0.6164 - val_acc: 0.8040\n",
      "Epoch 77/80\n",
      "1/1 - 0s - loss: 0.3149 - acc: 0.9214 - val_loss: 0.6170 - val_acc: 0.8040\n",
      "Epoch 78/80\n",
      "1/1 - 0s - loss: 0.3745 - acc: 0.9286 - val_loss: 0.6185 - val_acc: 0.8020\n",
      "Epoch 79/80\n",
      "1/1 - 0s - loss: 0.3129 - acc: 0.9143 - val_loss: 0.6195 - val_acc: 0.8000\n",
      "Epoch 80/80\n",
      "1/1 - 0s - loss: 0.3215 - acc: 0.9429 - val_loss: 0.6207 - val_acc: 0.8000\n"
     ]
    }
   ],
   "source": [
    "model = Model(inputs = input_x,outputs = pred)\n",
    "model.compile(optimizer=optimizers.Adam(learning_rate=0.005),metrics=[\"acc\"],loss=losses.categorical_crossentropy)\n",
    "train = model.fit(\n",
    "train_gen,\n",
    "epochs=80,\n",
    "validation_data=val_gen,\n",
    "verbose=2,\n",
    "shuffle=False)"
   ]
  },
  {
   "cell_type": "code",
   "execution_count": 13,
   "id": "e1687693",
   "metadata": {
    "execution": {
     "iopub.execute_input": "2022-09-03T18:20:12.433820Z",
     "iopub.status.busy": "2022-09-03T18:20:12.432819Z",
     "iopub.status.idle": "2022-09-03T18:20:12.972495Z",
     "shell.execute_reply": "2022-09-03T18:20:12.971463Z"
    },
    "papermill": {
     "duration": 0.558324,
     "end_time": "2022-09-03T18:20:12.974963",
     "exception": false,
     "start_time": "2022-09-03T18:20:12.416639",
     "status": "completed"
    },
    "tags": []
   },
   "outputs": [
    {
     "data": {
      "image/png": "[encoded data removed]",
      "text/plain": [
       "<Figure size 504x576 with 2 Axes>"
      ]
     },
     "metadata": {
      "needs_background": "light"
     },
     "output_type": "display_data"
    }
   ],
   "source": [
    "sg.utils.plot_history(train)"
   ]
  },
  {
   "cell_type": "code",
   "execution_count": 14,
   "id": "e1d7f55b",
   "metadata": {
    "execution": {
     "iopub.execute_input": "2022-09-03T18:20:13.010209Z",
     "iopub.status.busy": "2022-09-03T18:20:13.009237Z",
     "iopub.status.idle": "2022-09-03T18:20:13.130474Z",
     "shell.execute_reply": "2022-09-03T18:20:13.129678Z"
    },
    "papermill": {
     "duration": 0.141461,
     "end_time": "2022-09-03T18:20:13.132879",
     "exception": false,
     "start_time": "2022-09-03T18:20:12.991418",
     "status": "completed"
    },
    "tags": []
   },
   "outputs": [
    {
     "name": "stdout",
     "output_type": "stream",
     "text": [
      "1/1 [==============================] - 0s 82ms/step - loss: 0.6263 - acc: 0.8119\n",
      "[0.6262960433959961, 0.8118955492973328]\n"
     ]
    }
   ],
   "source": [
    "test_data = gen.flow(test.index,test_encoded)\n",
    "evaluate = model.evaluate(test_data)\n",
    "print(evaluate)"
   ]
  },
  {
   "cell_type": "markdown",
   "id": "f498ec1c",
   "metadata": {
    "papermill": {
     "duration": 0.01612,
     "end_time": "2022-09-03T18:20:13.165795",
     "exception": false,
     "start_time": "2022-09-03T18:20:13.149675",
     "status": "completed"
    },
    "tags": []
   },
   "source": [
    "# ***Prediction for all the nodes***"
   ]
  },
  {
   "cell_type": "code",
   "execution_count": 15,
   "id": "acc2cf35",
   "metadata": {
    "execution": {
     "iopub.execute_input": "2022-09-03T18:20:13.199912Z",
     "iopub.status.busy": "2022-09-03T18:20:13.198790Z",
     "iopub.status.idle": "2022-09-03T18:20:13.871783Z",
     "shell.execute_reply": "2022-09-03T18:20:13.870747Z"
    },
    "papermill": {
     "duration": 0.693124,
     "end_time": "2022-09-03T18:20:13.874898",
     "exception": false,
     "start_time": "2022-09-03T18:20:13.181774",
     "status": "completed"
    },
    "tags": []
   },
   "outputs": [],
   "source": [
    "all_data = gen.flow(nodes.index)\n",
    "all_pred = model.predict(all_data)"
   ]
  },
  {
   "cell_type": "code",
   "execution_count": 16,
   "id": "d8330f29",
   "metadata": {
    "execution": {
     "iopub.execute_input": "2022-09-03T18:20:13.909425Z",
     "iopub.status.busy": "2022-09-03T18:20:13.908235Z",
     "iopub.status.idle": "2022-09-03T18:20:13.927636Z",
     "shell.execute_reply": "2022-09-03T18:20:13.926576Z"
    },
    "papermill": {
     "duration": 0.03867,
     "end_time": "2022-09-03T18:20:13.930000",
     "exception": false,
     "start_time": "2022-09-03T18:20:13.891330",
     "status": "completed"
    },
    "tags": []
   },
   "outputs": [
    {
     "data": {
      "text/html": [
       "<div>\n",
       "<style scoped>\n",
       "    .dataframe tbody tr th:only-of-type {\n",
       "        vertical-align: middle;\n",
       "    }\n",
       "\n",
       "    .dataframe tbody tr th {\n",
       "        vertical-align: top;\n",
       "    }\n",
       "\n",
       "    .dataframe thead th {\n",
       "        text-align: right;\n",
       "    }\n",
       "</style>\n",
       "<table border=\"1\" class=\"dataframe\">\n",
       "  <thead>\n",
       "    <tr style=\"text-align: right;\">\n",
       "      <th></th>\n",
       "      <th>Predicted</th>\n",
       "      <th>True</th>\n",
       "    </tr>\n",
       "  </thead>\n",
       "  <tbody>\n",
       "    <tr>\n",
       "      <th>31336</th>\n",
       "      <td>Neural_Networks</td>\n",
       "      <td>Neural_Networks</td>\n",
       "    </tr>\n",
       "    <tr>\n",
       "      <th>1061127</th>\n",
       "      <td>Rule_Learning</td>\n",
       "      <td>Rule_Learning</td>\n",
       "    </tr>\n",
       "    <tr>\n",
       "      <th>1106406</th>\n",
       "      <td>Reinforcement_Learning</td>\n",
       "      <td>Reinforcement_Learning</td>\n",
       "    </tr>\n",
       "    <tr>\n",
       "      <th>13195</th>\n",
       "      <td>Reinforcement_Learning</td>\n",
       "      <td>Reinforcement_Learning</td>\n",
       "    </tr>\n",
       "    <tr>\n",
       "      <th>37879</th>\n",
       "      <td>Probabilistic_Methods</td>\n",
       "      <td>Probabilistic_Methods</td>\n",
       "    </tr>\n",
       "    <tr>\n",
       "      <th>1126012</th>\n",
       "      <td>Probabilistic_Methods</td>\n",
       "      <td>Probabilistic_Methods</td>\n",
       "    </tr>\n",
       "    <tr>\n",
       "      <th>1107140</th>\n",
       "      <td>Reinforcement_Learning</td>\n",
       "      <td>Theory</td>\n",
       "    </tr>\n",
       "    <tr>\n",
       "      <th>1102850</th>\n",
       "      <td>Neural_Networks</td>\n",
       "      <td>Neural_Networks</td>\n",
       "    </tr>\n",
       "    <tr>\n",
       "      <th>31349</th>\n",
       "      <td>Neural_Networks</td>\n",
       "      <td>Neural_Networks</td>\n",
       "    </tr>\n",
       "    <tr>\n",
       "      <th>1106418</th>\n",
       "      <td>Theory</td>\n",
       "      <td>Theory</td>\n",
       "    </tr>\n",
       "    <tr>\n",
       "      <th>1123188</th>\n",
       "      <td>Neural_Networks</td>\n",
       "      <td>Neural_Networks</td>\n",
       "    </tr>\n",
       "    <tr>\n",
       "      <th>1128990</th>\n",
       "      <td>Neural_Networks</td>\n",
       "      <td>Genetic_Algorithms</td>\n",
       "    </tr>\n",
       "    <tr>\n",
       "      <th>109323</th>\n",
       "      <td>Probabilistic_Methods</td>\n",
       "      <td>Probabilistic_Methods</td>\n",
       "    </tr>\n",
       "    <tr>\n",
       "      <th>217139</th>\n",
       "      <td>Theory</td>\n",
       "      <td>Case_Based</td>\n",
       "    </tr>\n",
       "    <tr>\n",
       "      <th>31353</th>\n",
       "      <td>Neural_Networks</td>\n",
       "      <td>Neural_Networks</td>\n",
       "    </tr>\n",
       "    <tr>\n",
       "      <th>32083</th>\n",
       "      <td>Neural_Networks</td>\n",
       "      <td>Neural_Networks</td>\n",
       "    </tr>\n",
       "    <tr>\n",
       "      <th>1126029</th>\n",
       "      <td>Reinforcement_Learning</td>\n",
       "      <td>Reinforcement_Learning</td>\n",
       "    </tr>\n",
       "    <tr>\n",
       "      <th>1118017</th>\n",
       "      <td>Neural_Networks</td>\n",
       "      <td>Neural_Networks</td>\n",
       "    </tr>\n",
       "    <tr>\n",
       "      <th>49482</th>\n",
       "      <td>Neural_Networks</td>\n",
       "      <td>Neural_Networks</td>\n",
       "    </tr>\n",
       "    <tr>\n",
       "      <th>753265</th>\n",
       "      <td>Theory</td>\n",
       "      <td>Neural_Networks</td>\n",
       "    </tr>\n",
       "    <tr>\n",
       "      <th>249858</th>\n",
       "      <td>Theory</td>\n",
       "      <td>Theory</td>\n",
       "    </tr>\n",
       "    <tr>\n",
       "      <th>1113739</th>\n",
       "      <td>Reinforcement_Learning</td>\n",
       "      <td>Reinforcement_Learning</td>\n",
       "    </tr>\n",
       "    <tr>\n",
       "      <th>48766</th>\n",
       "      <td>Genetic_Algorithms</td>\n",
       "      <td>Genetic_Algorithms</td>\n",
       "    </tr>\n",
       "    <tr>\n",
       "      <th>646195</th>\n",
       "      <td>Probabilistic_Methods</td>\n",
       "      <td>Probabilistic_Methods</td>\n",
       "    </tr>\n",
       "    <tr>\n",
       "      <th>1126050</th>\n",
       "      <td>Neural_Networks</td>\n",
       "      <td>Reinforcement_Learning</td>\n",
       "    </tr>\n",
       "    <tr>\n",
       "      <th>59626</th>\n",
       "      <td>Theory</td>\n",
       "      <td>Theory</td>\n",
       "    </tr>\n",
       "    <tr>\n",
       "      <th>340299</th>\n",
       "      <td>Neural_Networks</td>\n",
       "      <td>Neural_Networks</td>\n",
       "    </tr>\n",
       "    <tr>\n",
       "      <th>354004</th>\n",
       "      <td>Probabilistic_Methods</td>\n",
       "      <td>Probabilistic_Methods</td>\n",
       "    </tr>\n",
       "    <tr>\n",
       "      <th>242637</th>\n",
       "      <td>Neural_Networks</td>\n",
       "      <td>Neural_Networks</td>\n",
       "    </tr>\n",
       "    <tr>\n",
       "      <th>1106492</th>\n",
       "      <td>Rule_Learning</td>\n",
       "      <td>Rule_Learning</td>\n",
       "    </tr>\n",
       "    <tr>\n",
       "      <th>74975</th>\n",
       "      <td>Case_Based</td>\n",
       "      <td>Case_Based</td>\n",
       "    </tr>\n",
       "    <tr>\n",
       "      <th>1152272</th>\n",
       "      <td>Probabilistic_Methods</td>\n",
       "      <td>Neural_Networks</td>\n",
       "    </tr>\n",
       "    <tr>\n",
       "      <th>100701</th>\n",
       "      <td>Case_Based</td>\n",
       "      <td>Case_Based</td>\n",
       "    </tr>\n",
       "    <tr>\n",
       "      <th>66982</th>\n",
       "      <td>Neural_Networks</td>\n",
       "      <td>Neural_Networks</td>\n",
       "    </tr>\n",
       "    <tr>\n",
       "      <th>13960</th>\n",
       "      <td>Reinforcement_Learning</td>\n",
       "      <td>Reinforcement_Learning</td>\n",
       "    </tr>\n",
       "    <tr>\n",
       "      <th>13966</th>\n",
       "      <td>Reinforcement_Learning</td>\n",
       "      <td>Reinforcement_Learning</td>\n",
       "    </tr>\n",
       "    <tr>\n",
       "      <th>66990</th>\n",
       "      <td>Neural_Networks</td>\n",
       "      <td>Neural_Networks</td>\n",
       "    </tr>\n",
       "    <tr>\n",
       "      <th>182093</th>\n",
       "      <td>Genetic_Algorithms</td>\n",
       "      <td>Reinforcement_Learning</td>\n",
       "    </tr>\n",
       "    <tr>\n",
       "      <th>182094</th>\n",
       "      <td>Genetic_Algorithms</td>\n",
       "      <td>Genetic_Algorithms</td>\n",
       "    </tr>\n",
       "    <tr>\n",
       "      <th>13972</th>\n",
       "      <td>Reinforcement_Learning</td>\n",
       "      <td>Reinforcement_Learning</td>\n",
       "    </tr>\n",
       "  </tbody>\n",
       "</table>\n",
       "</div>"
      ],
      "text/plain": [
       "                      Predicted                    True\n",
       "31336           Neural_Networks         Neural_Networks\n",
       "1061127           Rule_Learning           Rule_Learning\n",
       "1106406  Reinforcement_Learning  Reinforcement_Learning\n",
       "13195    Reinforcement_Learning  Reinforcement_Learning\n",
       "37879     Probabilistic_Methods   Probabilistic_Methods\n",
       "1126012   Probabilistic_Methods   Probabilistic_Methods\n",
       "1107140  Reinforcement_Learning                  Theory\n",
       "1102850         Neural_Networks         Neural_Networks\n",
       "31349           Neural_Networks         Neural_Networks\n",
       "1106418                  Theory                  Theory\n",
       "1123188         Neural_Networks         Neural_Networks\n",
       "1128990         Neural_Networks      Genetic_Algorithms\n",
       "109323    Probabilistic_Methods   Probabilistic_Methods\n",
       "217139                   Theory              Case_Based\n",
       "31353           Neural_Networks         Neural_Networks\n",
       "32083           Neural_Networks         Neural_Networks\n",
       "1126029  Reinforcement_Learning  Reinforcement_Learning\n",
       "1118017         Neural_Networks         Neural_Networks\n",
       "49482           Neural_Networks         Neural_Networks\n",
       "753265                   Theory         Neural_Networks\n",
       "249858                   Theory                  Theory\n",
       "1113739  Reinforcement_Learning  Reinforcement_Learning\n",
       "48766        Genetic_Algorithms      Genetic_Algorithms\n",
       "646195    Probabilistic_Methods   Probabilistic_Methods\n",
       "1126050         Neural_Networks  Reinforcement_Learning\n",
       "59626                    Theory                  Theory\n",
       "340299          Neural_Networks         Neural_Networks\n",
       "354004    Probabilistic_Methods   Probabilistic_Methods\n",
       "242637          Neural_Networks         Neural_Networks\n",
       "1106492           Rule_Learning           Rule_Learning\n",
       "74975                Case_Based              Case_Based\n",
       "1152272   Probabilistic_Methods         Neural_Networks\n",
       "100701               Case_Based              Case_Based\n",
       "66982           Neural_Networks         Neural_Networks\n",
       "13960    Reinforcement_Learning  Reinforcement_Learning\n",
       "13966    Reinforcement_Learning  Reinforcement_Learning\n",
       "66990           Neural_Networks         Neural_Networks\n",
       "182093       Genetic_Algorithms  Reinforcement_Learning\n",
       "182094       Genetic_Algorithms      Genetic_Algorithms\n",
       "13972    Reinforcement_Learning  Reinforcement_Learning"
      ]
     },
     "execution_count": 16,
     "metadata": {},
     "output_type": "execute_result"
    }
   ],
   "source": [
    "test_pred = encoding.inverse_transform(all_pred.squeeze())\n",
    "dataframe = pd.DataFrame({'Predicted':test_pred,\"True\":nodes})\n",
    "dataframe.head(40)"
   ]
  }
 ],
 "metadata": {
  "kernelspec": {
   "display_name": "Python 3",
   "language": "python",
   "name": "python3"
  },
  "language_info": {
   "codemirror_mode": {
    "name": "ipython",
    "version": 3
   },
   "file_extension": ".py",
   "mimetype": "text/x-python",
   "name": "python",
   "nbconvert_exporter": "python",
   "pygments_lexer": "ipython3",
   "version": "3.7.12"
  },
  "papermill": {
   "default_parameters": {},
   "duration": 85.170214,
   "end_time": "2022-09-03T18:20:16.786216",
   "environment_variables": {},
   "exception": null,
   "input_path": "__notebook__.ipynb",
   "output_path": "__notebook__.ipynb",
   "parameters": {},
   "start_time": "2022-09-03T18:18:51.616002",
   "version": "2.3.4"
  }
 },
 "nbformat": 4,
 "nbformat_minor": 5
}
